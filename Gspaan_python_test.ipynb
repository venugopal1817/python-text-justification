{
  "nbformat": 4,
  "nbformat_minor": 0,
  "metadata": {
    "colab": {
      "provenance": []
    },
    "kernelspec": {
      "name": "python3",
      "display_name": "Python 3"
    },
    "language_info": {
      "name": "python"
    }
  },
  "cells": [
    {
      "cell_type": "code",
      "source": [
        "import textwrap\n",
        "\n",
        "def align_text(paragraph, page_width):\n",
        "    # Split the paragraph into words\n",
        "    words = paragraph.split()\n",
        "\n",
        "    # Initialize an empty list to store the justified lines\n",
        "    aligned_lines = []\n",
        "\n",
        "    # Initialize a temporary line and its width\n",
        "    temp_line = \"\"\n",
        "    current_width = 0\n",
        "\n",
        "    # Iterate through the words\n",
        "    for word in words:\n",
        "        # Check if the current word can fit in the current line without exceeding the page width\n",
        "        if current_width + len(word) + 1 <= page_width:\n",
        "            # Append the word to the temporary line\n",
        "            temp_line += word + \" \"\n",
        "            # Update the current width\n",
        "            current_width += len(word) + 1\n",
        "        else:\n",
        "            # If the current word cannot fit, add the temporary line to the aligned lines list\n",
        "            aligned_lines.append(temp_line.strip())\n",
        "\n",
        "            # Start a new temporary line with the current word\n",
        "            temp_line = word + \" \"\n",
        "            # Reset the current width\n",
        "            current_width = len(word) + 1\n",
        "\n",
        "    # Add the last temporary line to the aligned lines list\n",
        "    aligned_lines.append(temp_line.strip())\n",
        "\n",
        "    # Return the aligned lines list\n",
        "    return aligned_lines\n",
        "\n",
        "# Example usage\n",
        "input_text = \"This is a sample text but a complicated problem to be solved, so we are adding more text to see that it actually works.\"\n",
        "line_width = 20\n",
        "\n",
        "formatted_text = align_text(input_text, line_width)\n",
        "print(formatted_text)\n"
      ],
      "metadata": {
        "colab": {
          "base_uri": "https://localhost:8080/"
        },
        "id": "Oqvhr4VbrvDT",
        "outputId": "6f948ba1-ad3e-4d15-89f2-650056adc99f"
      },
      "execution_count": 1,
      "outputs": [
        {
          "output_type": "stream",
          "name": "stdout",
          "text": [
            "['This is a sample', 'text but a', 'complicated problem', 'to be solved, so we', 'are adding more', 'text to see that it', 'actually works.']\n"
          ]
        }
      ]
    }
  ]
}